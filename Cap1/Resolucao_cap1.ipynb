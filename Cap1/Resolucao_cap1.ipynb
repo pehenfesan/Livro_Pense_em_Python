{
 "cells": [
  {
   "cell_type": "markdown",
   "id": "c3b05896",
   "metadata": {},
   "source": [
    "# Livro \"Pense em Python - Allen B. Downey\""
   ]
  },
  {
   "cell_type": "markdown",
   "id": "afe140ee",
   "metadata": {},
   "source": [
    "## Notebook para a resolução dos exercícios do livro "
   ]
  },
  {
   "cell_type": "markdown",
   "id": "785f224e",
   "metadata": {},
   "source": [
    "### Capítulo 1:"
   ]
  },
  {
   "cell_type": "markdown",
   "id": "6093a7bd",
   "metadata": {},
   "source": [
    "#### Exercicio 1.1:"
   ]
  },
  {
   "cell_type": "code",
   "execution_count": 11,
   "id": "57cb9a86",
   "metadata": {},
   "outputs": [
    {
     "ename": "SyntaxError",
     "evalue": "invalid syntax (<ipython-input-11-89b37f91f829>, line 5)",
     "output_type": "error",
     "traceback": [
      "\u001b[1;36m  File \u001b[1;32m\"<ipython-input-11-89b37f91f829>\"\u001b[1;36m, line \u001b[1;32m5\u001b[0m\n\u001b[1;33m    print x              #SyntaxError: Missing parentheses in call to 'print'. Did you mean print(x)?\u001b[0m\n\u001b[1;37m          ^\u001b[0m\n\u001b[1;31mSyntaxError\u001b[0m\u001b[1;31m:\u001b[0m invalid syntax\n"
     ]
    }
   ],
   "source": [
    "# 1 - Em uma insytrução print, o que acontece se voce omitir um dos parênteses ou ambos?\n",
    "\n",
    "#print(\"Hello, World\" #SyntaxError: unexpected EOF while parsing\n",
    "\n",
    "print x              #SyntaxError: Missing parentheses in call to 'print'. Did you mean print(x)?\n",
    "                      #SyntaxError: invalid syntax"
   ]
  },
  {
   "cell_type": "code",
   "execution_count": 15,
   "id": "3fab651e",
   "metadata": {},
   "outputs": [
    {
     "ename": "NameError",
     "evalue": "name 'Hello' is not defined",
     "output_type": "error",
     "traceback": [
      "\u001b[1;31m---------------------------------------------------------------------------\u001b[0m",
      "\u001b[1;31mNameError\u001b[0m                                 Traceback (most recent call last)",
      "\u001b[1;32m<ipython-input-15-605011de66b8>\u001b[0m in \u001b[0;36m<module>\u001b[1;34m\u001b[0m\n\u001b[0;32m      3\u001b[0m \u001b[1;31m#print(\"Hello)  #SyntaxError: EOL while scanning string literal\u001b[0m\u001b[1;33m\u001b[0m\u001b[1;33m\u001b[0m\u001b[1;33m\u001b[0m\u001b[0m\n\u001b[0;32m      4\u001b[0m \u001b[1;33m\u001b[0m\u001b[0m\n\u001b[1;32m----> 5\u001b[1;33m \u001b[0mprint\u001b[0m\u001b[1;33m(\u001b[0m\u001b[0mHello\u001b[0m\u001b[1;33m)\u001b[0m\u001b[1;33m\u001b[0m\u001b[1;33m\u001b[0m\u001b[0m\n\u001b[0m",
      "\u001b[1;31mNameError\u001b[0m: name 'Hello' is not defined"
     ]
    }
   ],
   "source": [
    "# 2 - Se estiver tentando imprimir uma string, o que acontece se omitir uma das aspas ou ambas?\n",
    "\n",
    "#print(\"Hello)  #SyntaxError: EOL while scanning string literal\n",
    "\n",
    "print(Hello)    #NameError: name 'Hello' is not defined"
   ]
  },
  {
   "cell_type": "code",
   "execution_count": 29,
   "id": "cb6e7a4d",
   "metadata": {},
   "outputs": [
    {
     "name": "stdout",
     "output_type": "stream",
     "text": [
      "0\n",
      "13\n"
     ]
    },
    {
     "data": {
      "text/plain": [
       "4"
      ]
     },
     "execution_count": 29,
     "metadata": {},
     "output_type": "execute_result"
    }
   ],
   "source": [
    "# 3 - Voce pode usar um sinal de menos para fazer um número negativo como -2.\n",
    "# O que acontece se puser um sinal de mais antes de um número ? e se escrever assim: 2++2 ?\n",
    "\n",
    "print(-2 + 2) #0\n",
    "print(+8 +5)  #13\n",
    "2++2          #4"
   ]
  },
  {
   "cell_type": "code",
   "execution_count": 33,
   "id": "89c35475",
   "metadata": {},
   "outputs": [
    {
     "ename": "SyntaxError",
     "evalue": "leading zeros in decimal integer literals are not permitted; use an 0o prefix for octal integers (<ipython-input-33-3f53ec222a2a>, line 3)",
     "output_type": "error",
     "traceback": [
      "\u001b[1;36m  File \u001b[1;32m\"<ipython-input-33-3f53ec222a2a>\"\u001b[1;36m, line \u001b[1;32m3\u001b[0m\n\u001b[1;33m    02       #SyntaxError: leading zeros in decimal integer literals are not permitted; use an 0o prefix for octal integers\u001b[0m\n\u001b[1;37m     ^\u001b[0m\n\u001b[1;31mSyntaxError\u001b[0m\u001b[1;31m:\u001b[0m leading zeros in decimal integer literals are not permitted; use an 0o prefix for octal integers\n"
     ]
    }
   ],
   "source": [
    "# 4 - Na notação matemática, zeros a esquerda são aceitaveis, como em 02. O que acontece se voce tentar isar isso no Python?\n",
    "\n",
    "02       #SyntaxError: leading zeros in decimal integer literals are not permitted; use an 0o prefix for octal integers"
   ]
  },
  {
   "cell_type": "code",
   "execution_count": 36,
   "id": "a9f86e85",
   "metadata": {},
   "outputs": [
    {
     "ename": "SyntaxError",
     "evalue": "invalid syntax (<ipython-input-36-7cc003f33de1>, line 3)",
     "output_type": "error",
     "traceback": [
      "\u001b[1;36m  File \u001b[1;32m\"<ipython-input-36-7cc003f33de1>\"\u001b[1;36m, line \u001b[1;32m3\u001b[0m\n\u001b[1;33m    2 2  #SyntaxError: invalid syntax\u001b[0m\n\u001b[1;37m      ^\u001b[0m\n\u001b[1;31mSyntaxError\u001b[0m\u001b[1;31m:\u001b[0m invalid syntax\n"
     ]
    }
   ],
   "source": [
    "# 5 - O que acontece se voce tiver dois valores sem senhum operador entre eles?\n",
    "\n",
    "2 2  #SyntaxError: invalid syntax"
   ]
  },
  {
   "cell_type": "markdown",
   "id": "0ea14ef2",
   "metadata": {},
   "source": [
    "#### Exercicio 1.2:"
   ]
  },
  {
   "cell_type": "code",
   "execution_count": 50,
   "id": "c404b669",
   "metadata": {},
   "outputs": [
    {
     "name": "stdout",
     "output_type": "stream",
     "text": [
      "Nesse tempo designado há 2562 segundos !!\n"
     ]
    }
   ],
   "source": [
    "# 1- Quantos segundos há em 42 minutos e 42 segundos?\n",
    "\n",
    "segundos = (42 * 60 ) + 42  #2562 segundos\n",
    "\n",
    "print(\"Nesse tempo designado há\", segundos, \"segundos !!\")"
   ]
  },
  {
   "cell_type": "code",
   "execution_count": 51,
   "id": "a72a5316",
   "metadata": {},
   "outputs": [
    {
     "name": "stdout",
     "output_type": "stream",
     "text": [
      "Em 10 quilometros há 6.211180124223602 milhas\n"
     ]
    }
   ],
   "source": [
    "# 2- Quantas milhas há em 10 quilometros? 1 milha equivale a 1,61 quilometro.\n",
    "\n",
    "milha = 10 / 1.61  #6.211180124223602\n",
    "\n",
    "print(\"Em 10 quilometros há\",milha, \"milhas\")"
   ]
  },
  {
   "cell_type": "code",
   "execution_count": 57,
   "id": "51c1bd64",
   "metadata": {},
   "outputs": [
    {
     "name": "stdout",
     "output_type": "stream",
     "text": [
      "O passo médio é de 0.14546089283896022 milhas por minuto e 0.0024243482139826703 milhas por segundo !\n",
      "A velocidade média é de 8.727653570337614 milhas por hora !\n"
     ]
    }
   ],
   "source": [
    "# 3- Se voce correr 10 kilometros em 42 minutos e 42 segundos, qual é o seu passo médio (tempo por milha em minutos e segundos)?\n",
    "# Qual é a sua velocidade média em milhas por hora?\n",
    "\n",
    "minutos = segundos / 60\n",
    "\n",
    "p_medio_min = milha / minutos\n",
    "p_medio_seg = milha / segundos\n",
    "\n",
    "velo_media = milha / (minutos/60)\n",
    "\n",
    "print(\"O passo médio é de\", p_medio_min, \"milhas por minuto e\",p_medio_seg, \"milhas por segundo !\")\n",
    "print(\"A velocidade média é de\",velo_media,\"milhas por hora !\")"
   ]
  }
 ],
 "metadata": {
  "kernelspec": {
   "display_name": "Python 3",
   "language": "python",
   "name": "python3"
  },
  "language_info": {
   "codemirror_mode": {
    "name": "ipython",
    "version": 3
   },
   "file_extension": ".py",
   "mimetype": "text/x-python",
   "name": "python",
   "nbconvert_exporter": "python",
   "pygments_lexer": "ipython3",
   "version": "3.8.8"
  }
 },
 "nbformat": 4,
 "nbformat_minor": 5
}
